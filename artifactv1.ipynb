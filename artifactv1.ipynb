{
 "cells": [
  {
   "cell_type": "code",
   "execution_count": 2,
   "metadata": {},
   "outputs": [
    {
     "data": {
      "application/vnd.jupyter.widget-view+json": {
       "model_id": "e6e0428c501b472e9c0e04fa7ac42779",
       "version_major": 2,
       "version_minor": 0
      },
      "text/plain": [
       "interactive(children=(Dropdown(description='Philosopher', options=('Buchanan', 'Higginson, Thomas Wentworth', …"
      ]
     },
     "metadata": {},
     "output_type": "display_data"
    },
    {
     "data": {
      "text/plain": [
       "<function __main__.plot_references(philosopher, top_references=10, top_referenced_by=10, threshold=1)>"
      ]
     },
     "execution_count": 2,
     "metadata": {},
     "output_type": "execute_result"
    }
   ],
   "source": [
    "import pandas as pd\n",
    "import matplotlib.pyplot as plt\n",
    "import numpy as np\n",
    "from matplotlib.patches import FancyArrowPatch\n",
    "from ipywidgets import interact, Dropdown, IntSlider\n",
    "\n",
    "# Load the CSV file\n",
    "df = pd.read_csv('references.csv')\n",
    "\n",
    "# Parse birth year from the 'birth_death' column, handling negative years\n",
    "df['birth_year'] = df['birth_death'].str.extract(r'(-?\\d{3,4})').astype(float)\n",
    "\n",
    "# Define the function to plot references interactively\n",
    "def plot_references(philosopher, top_references=10, top_referenced_by=10, threshold=1):\n",
    "    # Clear and create new figure in one step\n",
    "    plt.close('all')  # Close all existing figures\n",
    "    fig, ax = plt.subplots(figsize=(16, 12), dpi=150)\n",
    "\n",
    "    # Get philosophers referenced the most by the selected philosopher\n",
    "    df_philosopher = df[df['author_of_book'] == philosopher]\n",
    "    top_referenced = df_philosopher['full_author_referenced'].value_counts().head(top_references).index\n",
    "\n",
    "    # Get philosophers who referenced the selected philosopher the most\n",
    "    top_referenced_by_philosophers = df[df['full_author_referenced'] == philosopher]['author_of_book'].value_counts().head(top_referenced_by).index\n",
    "\n",
    "    # Create a display set including top referenced and top referencing philosophers\n",
    "    display_philosophers = list(set(top_referenced).union(set(top_referenced_by_philosophers), {philosopher}))\n",
    "\n",
    "    # Filter DataFrame to include only rows where both authors and references are in the display set\n",
    "    df_display = df[(df['author_of_book'].isin(display_philosophers)) & (df['full_author_referenced'].isin(display_philosophers))]\n",
    "\n",
    "    # Count references for bubble sizes (only for references among the selected philosophers)\n",
    "    restricted_referenced_counts = df_display['full_author_referenced'].value_counts()\n",
    "    reference_counts = df['author_of_book'].value_counts()\n",
    "\n",
    "    # Generate coordinates with x-axis as birth year and y-axis as number of references made\n",
    "    coordinates = {}\n",
    "    for philosopher_name in display_philosophers:\n",
    "        philosopher_rows = df[df['author_of_book'] == philosopher_name]\n",
    "        if not philosopher_rows.empty:\n",
    "            birth_year = philosopher_rows['birth_year'].iloc[0]\n",
    "            num_references_made = reference_counts.get(philosopher_name, 0)\n",
    "            if pd.notna(birth_year) and np.isfinite(num_references_made):\n",
    "                coordinates[philosopher_name] = (birth_year, num_references_made)\n",
    "\n",
    "    # Plot each philosopher's point and label it with the first name only\n",
    "    for philosopher_name, (x, y) in coordinates.items():\n",
    "        first_name = philosopher_name.split()[0].rstrip(',')\n",
    "        \n",
    "        # Plot the primary point\n",
    "        ax.scatter(x, y, s=100, c='skyblue', edgecolor='k', alpha=0.7)\n",
    "        ax.text(x + 5, y, first_name, fontsize=10)\n",
    "\n",
    "        # Plot the bubble based on the number of times they were referenced by other top philosophers\n",
    "        if philosopher_name in restricted_referenced_counts:\n",
    "            bubble_size = restricted_referenced_counts[philosopher_name] * 30\n",
    "            ax.scatter(x, y, s=bubble_size, c='skyblue', alpha=0.3, edgecolor='none')  # Translucent bubble\n",
    "\n",
    "    # Track unique connections to avoid multiple arrows for the same connection\n",
    "    unique_connections = set()\n",
    "\n",
    "    # Draw curved arrows for each unique reference from one philosopher to another if the count is above threshold\n",
    "    reference_counts_pairs = df_display.groupby(['author_of_book', 'full_author_referenced']).size()\n",
    "    for (source, target), count in reference_counts_pairs.items():\n",
    "        if source != target and count >= threshold and (source, target) not in unique_connections:\n",
    "            unique_connections.add((source, target))\n",
    "\n",
    "            # Ensure both philosophers have coordinates\n",
    "            if source in coordinates and target in coordinates:\n",
    "                source_coord = coordinates[source]\n",
    "                target_coord = coordinates[target]\n",
    "\n",
    "                # Create a curved arrow with FancyArrowPatch\n",
    "                arrow = FancyArrowPatch(\n",
    "                    posA=source_coord, posB=target_coord,\n",
    "                    connectionstyle=\"arc3,rad=0.2\",  # Adds slight curve\n",
    "                    arrowstyle=\"->,head_length=0.4,head_width=0.2\",  # Larger arrowhead\n",
    "                    color='gray',\n",
    "                    alpha=0.5,\n",
    "                    linewidth=1\n",
    "                )\n",
    "                ax.add_patch(arrow)\n",
    "\n",
    "    # Set axis labels and remove ticks for a cleaner look\n",
    "    ax.tick_params(axis='both', labelsize=10)\n",
    "    ax.set_xlabel(\"Birth Year\")\n",
    "    ax.set_ylabel(\"Number of References Made\")\n",
    "    ax.set_title(f\"Top References for {philosopher}\")\n",
    "    \n",
    "    plt.tight_layout()\n",
    "    return fig\n",
    "\n",
    "# Create dropdown and sliders\n",
    "philosopher_options = df['author_of_book'].unique()\n",
    "interact(\n",
    "    plot_references,\n",
    "    philosopher=Dropdown(options=philosopher_options, description=\"Philosopher\"),\n",
    "    top_references=IntSlider(value=10, min=1, max=20, step=1, description=\"Top Referenced\"),\n",
    "    top_referenced_by=IntSlider(value=10, min=1, max=20, step=1, description=\"Top Referenced By\"),\n",
    "    threshold=IntSlider(value=1, min=1, max=10, step=1, description=\"Threshold\")\n",
    ")"
   ]
  }
 ],
 "metadata": {
  "kernelspec": {
   "display_name": "my_project_env",
   "language": "python",
   "name": "python3"
  },
  "language_info": {
   "codemirror_mode": {
    "name": "ipython",
    "version": 3
   },
   "file_extension": ".py",
   "mimetype": "text/x-python",
   "name": "python",
   "nbconvert_exporter": "python",
   "pygments_lexer": "ipython3",
   "version": "3.8.20"
  }
 },
 "nbformat": 4,
 "nbformat_minor": 2
}
